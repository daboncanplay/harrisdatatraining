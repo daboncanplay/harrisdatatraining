{
 "cells": [
  {
   "cell_type": "markdown",
   "id": "f3c99d08",
   "metadata": {},
   "source": [
    "# Instructions\n",
    "Click \"Run all\" at the top of this notebook"
   ]
  },
  {
   "cell_type": "code",
   "execution_count": null,
   "id": "2b7d0532",
   "metadata": {
    "vscode": {
     "languageId": "plaintext"
    }
   },
   "outputs": [],
   "source": [
    "@sh\n",
    "databricks bundle deploy"
   ]
  },
  {
   "cell_type": "code",
   "execution_count": null,
   "id": "e9863168",
   "metadata": {
    "vscode": {
     "languageId": "plaintext"
    }
   },
   "outputs": [],
   "source": [
    "%sh\n",
    "databricks bundle run Run_Data_Setup_Job"
   ]
  }
 ],
 "metadata": {
  "language_info": {
   "name": "python"
  }
 },
 "nbformat": 4,
 "nbformat_minor": 5
}
