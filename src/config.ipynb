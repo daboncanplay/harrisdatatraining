{
 "cells": [
  {
   "cell_type": "code",
   "execution_count": 0,
   "metadata": {
    "application/vnd.databricks.v1+cell": {
     "cellMetadata": {
      "byteLimit": 2048000,
      "rowLimit": 10000
     },
     "inputWidgets": {},
     "nuid": "20eaf416-c9a9-4ac7-8d13-aef5a4755f75",
     "showTitle": false,
     "tableResultSettingsMap": {},
     "title": ""
    }
   },
   "outputs": [],
   "source": [
    "## This will go in the vars section at some point\n",
    "\n",
    "course_name = \"databricks_fundamentals\"\n",
    "catalog_name = \"harrisdatatraining\"\n",
    "schema_name = \"default\"\n",
    "data_volume_name = course_name\n",
    "api_url = f\"https://08bqlvhuxb.execute-api.us-east-2.amazonaws.com/default/get_mindconstructor_data?course_name={course_name}&data_password={data_password}\""
   ]
  }
 ],
 "metadata": {
  "application/vnd.databricks.v1+notebook": {
   "computePreferences": null,
   "dashboards": [],
   "environmentMetadata": {
    "base_environment": "",
    "environment_version": "2"
   },
   "inputWidgetPreferences": null,
   "language": "python",
   "notebookMetadata": {
    "pythonIndentUnit": 4
   },
   "notebookName": "config",
   "widgets": {}
  },
  "language_info": {
   "name": "python"
  }
 },
 "nbformat": 4,
 "nbformat_minor": 0
}